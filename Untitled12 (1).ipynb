{
  "nbformat": 4,
  "nbformat_minor": 0,
  "metadata": {
    "colab": {
      "provenance": []
    },
    "kernelspec": {
      "name": "python3",
      "display_name": "Python 3"
    },
    "language_info": {
      "name": "python"
    }
  },
  "cells": [
    {
      "cell_type": "markdown",
      "source": [
        "# in []\n",
        " 1. What is Python, and why is it popular?\n",
        "\n",
        "    •\tPython is high level, interpreted programming language known for its simplicity and readability. It's popular because:\n",
        "    1)easy syntax\n",
        "    2)Huge library support\n",
        "    3)Used in many fields like DA, DS, Automation, developement etc.\n",
        "\n",
        " 2. What is an interpreter in Python?\n",
        "\n",
        "    •\tAn interpreter is a program that executes Python code line by line. It converts high-level code into machine code at run time, allowing immediate execution and debugging.\n",
        "\n",
        " 3. What are pre-defined keywords in Python?\n",
        "\n",
        "    •\tReserved keyword in Python which user cannot use as variable are pre-defined keywords, eg. For, while, print, else, elif,class etc.\n",
        "\n",
        " 4.Can keywords be used as variable names?\n",
        "\n",
        "    •\tNo, python keywords cannot be used as variable names.\n",
        "\n",
        " 5. What is mutability in Python?\n",
        "\n",
        "    •\tMutability means whether an object can be changed after it's creation. eg. List, Dictionary and set are mutable\n",
        "\n",
        " 6. Why are lists mutable, but tuples are immutable?\n",
        "\n",
        "    •\tLists are designed for flexible data which can grow, shrink and made change while tuples are designed to use fixed data which can improve performance and safety.\n",
        "\n",
        " 7. What is the difference between “==” and “is” operators in Python?\n",
        "\n",
        "    •\t\"==\" are used for check equality while \"is\" is used for checking memory eg. if a==9: -> check if a is equal to 9\n",
        "\n",
        " 8. What are logical operators in Python?\n",
        "\n",
        "    •\tLogical operators are used in Python to combine conditional statements. eg. AND, OR, NOT\n",
        "\n",
        " 9. What is type casting in Python?\n",
        "\n",
        "    •\tType casting in python means converting data type of one variale into another.\n",
        "\n",
        " 10. What is the difference between implicit and explicit type casting?\n",
        "\n",
        "    •\timplicit type casting: .When Python convert data type internally then its known as Implicit type casting -Explicit type casting: When user convert data type externally using int(), float(), str() and float(), then its known as Explicit type casting.\n",
        "\n",
        " 11. What is the purpose of conditional statements in Python?\n",
        "\n",
        "    •\tThe purpose of conditional statements in Python is to control the flow of program based on conditions.\n",
        "\n",
        " 12. How does the elif statement work?\n",
        "\n",
        "    •\telif statement is the another condition after the first if when the previous condition is false.\n",
        "    •\tif(): statement() -elif(): statement() -else: statement()\n",
        "\n",
        " 13. What is the difference between for and while loops?\n",
        "\n",
        "    •\tfor: when we know the exact number of iteration -while: when the loop should continue based on a condition\n",
        "\n",
        " 14. Describe a scenario where a while loop is more suitable than a for loop?\n",
        "\n",
        "    •\tWe use while loop when we dont know how many iteration or loop the\n",
        "\n",
        "\n",
        "\n"
      ],
      "metadata": {
        "id": "xrVh13w6nGaX"
      }
    },
    {
      "cell_type": "code",
      "source": [
        "#1 Write a Python program to print \"Hello, World!\"\n",
        "print(\"hello world\")"
      ],
      "metadata": {
        "colab": {
          "base_uri": "https://localhost:8080/"
        },
        "id": "vP8ACWxkTTFo",
        "outputId": "0d058945-7fff-4809-c6ea-11adc49ba259"
      },
      "execution_count": 2,
      "outputs": [
        {
          "output_type": "stream",
          "name": "stdout",
          "text": [
            "hello world\n"
          ]
        }
      ]
    },
    {
      "cell_type": "code",
      "source": [
        "#2 Write a Python program that displays your name and age.\n",
        "name='lalit'\n",
        "age=22\n",
        "print('My name is:', name, 'and age is:',age)"
      ],
      "metadata": {
        "colab": {
          "base_uri": "https://localhost:8080/",
          "height": 0
        },
        "id": "pPSLu0e6TsV0",
        "outputId": "2fba2494-54b9-4953-ae35-0ca759e112ff"
      },
      "execution_count": 7,
      "outputs": [
        {
          "output_type": "stream",
          "name": "stdout",
          "text": [
            "My name is: lalit and age is: 22\n"
          ]
        }
      ]
    },
    {
      "cell_type": "code",
      "source": [
        "#3 Write code to print all the pre-defined keywords in Python using the keyword library.\n",
        "import keyword\n",
        "print(keyword.kwlist)\n"
      ],
      "metadata": {
        "colab": {
          "base_uri": "https://localhost:8080/",
          "height": 0
        },
        "id": "YcGe4xIIUEDs",
        "outputId": "316fa0b0-273a-4aa9-f79e-545b193d0997"
      },
      "execution_count": 8,
      "outputs": [
        {
          "output_type": "stream",
          "name": "stdout",
          "text": [
            "['False', 'None', 'True', 'and', 'as', 'assert', 'async', 'await', 'break', 'class', 'continue', 'def', 'del', 'elif', 'else', 'except', 'finally', 'for', 'from', 'global', 'if', 'import', 'in', 'is', 'lambda', 'nonlocal', 'not', 'or', 'pass', 'raise', 'return', 'try', 'while', 'with', 'yield']\n"
          ]
        }
      ]
    },
    {
      "cell_type": "code",
      "source": [
        "#4 Write a program that checks if a given word is a Python keyword.\n",
        "import keyword\n",
        "word=input('Enter the word:')\n",
        "if keyword.iskeyword(word):\n",
        "  print('Yes given word is keyword: ',word)\n",
        "else:\n",
        "  print('No, given word is not keyword: ',word)\n"
      ],
      "metadata": {
        "colab": {
          "base_uri": "https://localhost:8080/",
          "height": 0
        },
        "id": "bLjDXG9WUMkV",
        "outputId": "26cf2957-a473-412f-bc90-5202d6fb18b3"
      },
      "execution_count": 9,
      "outputs": [
        {
          "output_type": "stream",
          "name": "stdout",
          "text": [
            "Enter the word:else\n",
            "Yes given word is keyword:  else\n"
          ]
        }
      ]
    },
    {
      "cell_type": "code",
      "source": [
        "#5. Create a list and tuple in Python, and demonstrate how attempting to change an element works differently for each.\n",
        "l=[1,2,3]\n",
        "l[0]=10\n",
        "print(\"After chans in l:\",l)\n",
        "\n",
        "t=(1,2,3)\n",
        "try:\n",
        "  t[0]=10\n",
        "except TypeError as e:\n",
        "    print(\"Error: \",e)"
      ],
      "metadata": {
        "colab": {
          "base_uri": "https://localhost:8080/",
          "height": 0
        },
        "id": "8zLIZ1x6UZWp",
        "outputId": "f754a19b-e547-4fbe-ad94-ebc6fa1d436e"
      },
      "execution_count": 10,
      "outputs": [
        {
          "output_type": "stream",
          "name": "stdout",
          "text": [
            "After chans in l: [10, 2, 3]\n",
            "Error:  'tuple' object does not support item assignment\n"
          ]
        }
      ]
    },
    {
      "cell_type": "code",
      "source": [
        "#6. Write a function to demonstrate the behavior of mutable and immutable arguments.\n",
        "def ml(lst):\n",
        "  lst.append(100)\n",
        "\n",
        "def mn(num):\n",
        "  num=num+100\n",
        "  return 100\n",
        "\n",
        "mylist=[1,2,3]\n",
        "ml(mylist)\n",
        "print(\"Modify list: \",mylist)\n",
        "\n",
        "nnum=10\n",
        "newnum=mn(nnum)\n",
        "print(\"Original number:\",nnum)\n",
        "print(\"Return number:\", newnum)\n"
      ],
      "metadata": {
        "colab": {
          "base_uri": "https://localhost:8080/",
          "height": 0
        },
        "id": "3n0e5HekUp39",
        "outputId": "22c96cd5-5b55-423f-d5e9-880322470f04"
      },
      "execution_count": 11,
      "outputs": [
        {
          "output_type": "stream",
          "name": "stdout",
          "text": [
            "Modify list:  [1, 2, 3, 100]\n",
            "Original number: 10\n",
            "Return number: 100\n"
          ]
        }
      ]
    },
    {
      "cell_type": "code",
      "source": [
        "#7. Write a program that performs basic arithmetic operations on two user-input numbers.\n",
        "num1=float(input('Enter number 1:'))\n",
        "num2=float(input('Enter number 2:'))\n",
        "print('Addition: ',num1+num2)\n",
        "print('Substraction: ',num1-num2)\n",
        "print('Multiplication: ',num1*num2)\n",
        "print('Division: ',num1/num2)"
      ],
      "metadata": {
        "colab": {
          "base_uri": "https://localhost:8080/",
          "height": 0
        },
        "id": "Xs0LyDdqUx-9",
        "outputId": "eb90725d-855c-41aa-d494-125c5b7f1195"
      },
      "execution_count": 12,
      "outputs": [
        {
          "output_type": "stream",
          "name": "stdout",
          "text": [
            "Enter number 1:7\n",
            "Enter number 2:5\n",
            "Addition:  12.0\n",
            "Substraction:  2.0\n",
            "Multiplication:  35.0\n",
            "Division:  1.4\n"
          ]
        }
      ]
    },
    {
      "cell_type": "code",
      "source": [
        "#8. Write a program to demonstrate the use of logical operators.\n",
        "x=True\n",
        "y=False\n",
        "print(\"x and y:\", x and y)\n",
        "print(\"x or y:\", x or y)\n",
        "print(\"not x:\", not x)"
      ],
      "metadata": {
        "colab": {
          "base_uri": "https://localhost:8080/",
          "height": 0
        },
        "id": "LLVP_-ivU9nP",
        "outputId": "d28b68d3-7160-4f70-f1e9-bc9d3cd34891"
      },
      "execution_count": 13,
      "outputs": [
        {
          "output_type": "stream",
          "name": "stdout",
          "text": [
            "x and y: False\n",
            "x or y: True\n",
            "not x: False\n"
          ]
        }
      ]
    },
    {
      "cell_type": "code",
      "source": [
        "#9. Write a Python program to convert user input from string to integer, float, and boolean types.\n",
        "user_input=input(\"Enter any string: \")\n",
        "print(\"Interger is:\",int(user_input))\n",
        "print(\"Float is:\",float(user_input))\n",
        "print(\"Boolean is:\",bool(user_input))"
      ],
      "metadata": {
        "colab": {
          "base_uri": "https://localhost:8080/",
          "height": 0
        },
        "id": "DWQzNnlbVOqd",
        "outputId": "05746b0c-c1fc-4414-a1be-d0b244eeb891"
      },
      "execution_count": 14,
      "outputs": [
        {
          "output_type": "stream",
          "name": "stdout",
          "text": [
            "Enter any string: 8\n",
            "Interger is: 8\n",
            "Float is: 8.0\n",
            "Boolean is: True\n"
          ]
        }
      ]
    },
    {
      "cell_type": "code",
      "source": [
        "#10. Write code to demonstrate type casting with list elements.\n",
        "lst=['1','2','3']\n",
        "int_lst=[int(i) for i in lst]\n",
        "print(int_lst)"
      ],
      "metadata": {
        "colab": {
          "base_uri": "https://localhost:8080/",
          "height": 0
        },
        "id": "QY3_T0XCVYZD",
        "outputId": "8850c57f-2e88-485e-dfa1-f80ad41c8753"
      },
      "execution_count": 15,
      "outputs": [
        {
          "output_type": "stream",
          "name": "stdout",
          "text": [
            "[1, 2, 3]\n"
          ]
        }
      ]
    },
    {
      "cell_type": "code",
      "source": [
        "#Write a program that checks if a number is positive, negative, or zero.\n",
        "num=float(input(\"Enter any number:\"))\n",
        "if num == 0:\n",
        "  print(\"Number is zero\")\n",
        "elif num >0:\n",
        "  print(\"Number is positive: \")\n",
        "else:\n",
        "  print(\"Number is negative\")"
      ],
      "metadata": {
        "colab": {
          "base_uri": "https://localhost:8080/",
          "height": 0
        },
        "id": "dVGZarVHVmRH",
        "outputId": "03bc234e-3968-49e7-ccda-20ef6bad4f0d"
      },
      "execution_count": 16,
      "outputs": [
        {
          "output_type": "stream",
          "name": "stdout",
          "text": [
            "Enter any number:2\n",
            "Number is positive: \n"
          ]
        }
      ]
    },
    {
      "cell_type": "code",
      "source": [
        "#Write a for loop to print numbers from 1 to 10.\n",
        "for i in range (1,10+1):\n",
        "  print(i)"
      ],
      "metadata": {
        "colab": {
          "base_uri": "https://localhost:8080/",
          "height": 0
        },
        "id": "FrPzUnMUVrdt",
        "outputId": "70736be6-1862-4f53-9cbd-d142f7e74497"
      },
      "execution_count": 17,
      "outputs": [
        {
          "output_type": "stream",
          "name": "stdout",
          "text": [
            "1\n",
            "2\n",
            "3\n",
            "4\n",
            "5\n",
            "6\n",
            "7\n",
            "8\n",
            "9\n",
            "10\n"
          ]
        }
      ]
    },
    {
      "cell_type": "code",
      "source": [
        "#Write a Python program to find the sum of all even numbers between 1 and 50\n",
        "total=0\n",
        "for i in range (1, 51):\n",
        "  if i%2==0:\n",
        "    total=total+i\n",
        "\n",
        "print(\"Sum os all even number is: \",total)"
      ],
      "metadata": {
        "colab": {
          "base_uri": "https://localhost:8080/",
          "height": 0
        },
        "id": "nRXdo0hnV3Ig",
        "outputId": "417a44d1-cc3d-4a59-ab44-e40891de5f36"
      },
      "execution_count": 18,
      "outputs": [
        {
          "output_type": "stream",
          "name": "stdout",
          "text": [
            "Sum os all even number is:  650\n"
          ]
        }
      ]
    },
    {
      "cell_type": "code",
      "source": [
        "#Write a program to reverse a string using a while loop\n",
        "user_string = input(\"Enter a string: \")\n",
        "reversed_string = \"\"\n",
        "index = len(user_string) - 1\n",
        "\n",
        "while index >= 0:\n",
        "    reversed_string =reversed_string+ user_string[index]\n",
        "    index =index- 1\n",
        "\n",
        "print(\"Reversed string:\", reversed_string)"
      ],
      "metadata": {
        "colab": {
          "base_uri": "https://localhost:8080/",
          "height": 0
        },
        "id": "DVL1etGLV-AX",
        "outputId": "ed5dd48a-922a-4391-b1a0-bdbfc1f9430b"
      },
      "execution_count": 20,
      "outputs": [
        {
          "output_type": "stream",
          "name": "stdout",
          "text": [
            "Enter a string: lalit\n",
            "Reversed string: tilal\n"
          ]
        }
      ]
    },
    {
      "cell_type": "code",
      "source": [
        "#Write a Python program to calculate the factorial of a number provided by the user using a while loop\n",
        "num = int(input(\"Enter a number: \"))\n",
        "factorial = 1\n",
        "i = 1\n",
        "\n",
        "while i <= num:\n",
        "    factorial *= i\n",
        "    i += 1\n",
        "\n",
        "print(\"Factorial of\", num, \"is\", factorial)"
      ],
      "metadata": {
        "colab": {
          "base_uri": "https://localhost:8080/",
          "height": 0
        },
        "id": "kzX-CgEkWEWg",
        "outputId": "2553787c-1d16-480e-c6b9-e871a5589d6d"
      },
      "execution_count": 21,
      "outputs": [
        {
          "output_type": "stream",
          "name": "stdout",
          "text": [
            "Enter a number: 9\n",
            "Factorial of 9 is 362880\n"
          ]
        }
      ]
    },
    {
      "cell_type": "code",
      "source": [],
      "metadata": {
        "id": "h6M4nTaKWSK9"
      },
      "execution_count": null,
      "outputs": []
    }
  ]
}